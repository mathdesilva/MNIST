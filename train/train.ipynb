{
 "cells": [
  {
   "attachments": {},
   "cell_type": "markdown",
   "metadata": {},
   "source": [
    "# Training a Image Classifier for Fashion MNIST Dataset\n",
    "\n",
    "Shaw And Partners Coding Challenge\n",
    "\n",
    "Matheus de Andrade Silva"
   ]
  },
  {
   "attachments": {},
   "cell_type": "markdown",
   "metadata": {},
   "source": [
    "## Dependencies"
   ]
  },
  {
   "cell_type": "code",
   "execution_count": 205,
   "metadata": {},
   "outputs": [],
   "source": [
    "import pandas as pd\n",
    "import numpy as np\n",
    "import pathlib\n",
    "import matplotlib.pyplot as plt\n",
    "%matplotlib inline  "
   ]
  },
  {
   "attachments": {},
   "cell_type": "markdown",
   "metadata": {},
   "source": [
    "## Import Data"
   ]
  },
  {
   "cell_type": "code",
   "execution_count": 206,
   "metadata": {},
   "outputs": [],
   "source": [
    "from torch.utils.data import DataLoader\n",
    "from torchvision.datasets import FashionMNIST\n",
    "from torchvision.transforms import transforms"
   ]
  },
  {
   "cell_type": "code",
   "execution_count": 207,
   "metadata": {},
   "outputs": [],
   "source": [
    "# Download FashionMNIST dataset\n",
    "\n",
    "# Transform the data from range [0, 255] to range [0.0, 1.0]\n",
    "transform = transforms.Compose([transforms.ToTensor()])\n",
    "\n",
    "train_set = FashionMNIST(root='data/', train=True, download=True, transform=transform)\n",
    "test_set =  FashionMNIST(root='data/', train=False, download=True, transform=transform)"
   ]
  },
  {
   "cell_type": "code",
   "execution_count": 208,
   "metadata": {},
   "outputs": [],
   "source": [
    "(X_train_raw, y_train_raw), (X_test_raw, y_test_raw) = (train_set.data, train_set.targets), (test_set.data, test_set.targets)"
   ]
  },
  {
   "cell_type": "code",
   "execution_count": 209,
   "metadata": {},
   "outputs": [
    {
     "name": "stdout",
     "output_type": "stream",
     "text": [
      ">> Train test size analysis:\n",
      "Train images shape: torch.Size([60000, 28, 28])\n",
      "Train labels shape: torch.Size([60000])\n",
      "Test images shape: torch.Size([10000, 28, 28])\n",
      "Test labels shape: torch.Size([10000])\n"
     ]
    }
   ],
   "source": [
    "print('>> Train test size analysis:')\n",
    "print('Train images shape:', X_train_raw.shape)\n",
    "print('Train labels shape:', y_train_raw.shape)\n",
    "print('Test images shape:', X_test_raw.shape)\n",
    "print('Test labels shape:', y_test_raw.shape)"
   ]
  },
  {
   "attachments": {},
   "cell_type": "markdown",
   "metadata": {},
   "source": [
    "## Data Analysis"
   ]
  },
  {
   "cell_type": "code",
   "execution_count": 210,
   "metadata": {},
   "outputs": [
    {
     "name": "stdout",
     "output_type": "stream",
     "text": [
      ">> Train label distribution analysis:\n",
      "Label: 0, Count: 6000\n",
      "Label: 1, Count: 6000\n",
      "Label: 2, Count: 6000\n",
      "Label: 3, Count: 6000\n",
      "Label: 4, Count: 6000\n",
      "Label: 5, Count: 6000\n",
      "Label: 6, Count: 6000\n",
      "Label: 7, Count: 6000\n",
      "Label: 8, Count: 6000\n",
      "Label: 9, Count: 6000\n"
     ]
    }
   ],
   "source": [
    "print('>> Train label distribution analysis:')\n",
    "for value in np.array(np.unique(y_train_raw, return_counts=True)).T:\n",
    "    print(f'Label: {value[0]}, Count: {value[1]}')"
   ]
  },
  {
   "cell_type": "code",
   "execution_count": 211,
   "metadata": {},
   "outputs": [
    {
     "name": "stdout",
     "output_type": "stream",
     "text": [
      ">> Test label distribution analysis:\n",
      "Label: 0, Count: 1000\n",
      "Label: 1, Count: 1000\n",
      "Label: 2, Count: 1000\n",
      "Label: 3, Count: 1000\n",
      "Label: 4, Count: 1000\n",
      "Label: 5, Count: 1000\n",
      "Label: 6, Count: 1000\n",
      "Label: 7, Count: 1000\n",
      "Label: 8, Count: 1000\n",
      "Label: 9, Count: 1000\n"
     ]
    }
   ],
   "source": [
    "\n",
    "print('>> Test label distribution analysis:')\n",
    "for value in np.array(np.unique(y_test_raw, return_counts=True)).T:\n",
    "    print(f'Label: {value[0]}, Count: {value[1]}')"
   ]
  },
  {
   "cell_type": "code",
   "execution_count": 212,
   "metadata": {},
   "outputs": [
    {
     "name": "stdout",
     "output_type": "stream",
     "text": [
      ">> Image examples:\n"
     ]
    },
    {
     "data": {
      "image/png": "[encoded data removed]",
      "text/plain": [
       "<Figure size 1500x1500 with 5 Axes>"
      ]
     },
     "metadata": {},
     "output_type": "display_data"
    }
   ],
   "source": [
    "print('>> Image examples:')\n",
    "fig, axes = plt.subplots(1, 5, figsize=(15,15))\n",
    "for i in range(5):\n",
    "    axes[i].imshow(X_train_raw[i], cmap='gray')\n",
    "    axes[i].set_title(y_train_raw[i])\n",
    "    axes[i].axis('off')"
   ]
  },
  {
   "cell_type": "code",
   "execution_count": 213,
   "metadata": {},
   "outputs": [
    {
     "name": "stdout",
     "output_type": "stream",
     "text": [
      ">> Image array data analysis:\n",
      "Image array shape: torch.Size([28, 28])\n",
      "Total pixels: 784\n",
      "Min value: 0\n",
      "Max value: 255\n"
     ]
    }
   ],
   "source": [
    "print('>> Image array data analysis:')\n",
    "print(f'Image array shape: {X_train_raw[0].shape}')\n",
    "print(f'Total pixels: {X_train_raw[0].shape[0] * X_train_raw[0].shape[1]}')\n",
    "print(f'Min value: {X_train_raw[0].min()}')\n",
    "print(f'Max value: {X_train_raw[0].max()}')"
   ]
  },
  {
   "attachments": {},
   "cell_type": "markdown",
   "metadata": {},
   "source": [
    "## Data Handling"
   ]
  },
  {
   "cell_type": "code",
   "execution_count": 214,
   "metadata": {},
   "outputs": [],
   "source": [
    "from torch.utils.data import random_split, Subset"
   ]
  },
  {
   "cell_type": "code",
   "execution_count": 215,
   "metadata": {},
   "outputs": [
    {
     "name": "stdout",
     "output_type": "stream",
     "text": [
      "Max value: 1.0\n"
     ]
    }
   ],
   "source": [
    "# Change the pixel values range from 0-255 to 0-1\n",
    "train_set.data = train_set.data.type(torch.float32) / 255\n",
    "test_set.data = test_set.data.type(torch.float32) / 255\n",
    "print(f'Max value: {train_set.data[0].max()}')"
   ]
  },
  {
   "cell_type": "code",
   "execution_count": 216,
   "metadata": {},
   "outputs": [],
   "source": [
    "# Create a validation set\n",
    "train_set, val_set = random_split(train_set, [50000, 10000])"
   ]
  },
  {
   "attachments": {},
   "cell_type": "markdown",
   "metadata": {},
   "source": [
    "## Training"
   ]
  },
  {
   "cell_type": "code",
   "execution_count": 217,
   "metadata": {},
   "outputs": [],
   "source": [
    "from torch import nn\n",
    "from torch import optim"
   ]
  },
  {
   "cell_type": "code",
   "execution_count": 218,
   "metadata": {},
   "outputs": [
    {
     "name": "stdout",
     "output_type": "stream",
     "text": [
      "Using cpu device\n"
     ]
    }
   ],
   "source": [
    "# Some useful constants\n",
    "IMAGE_SIZE = 28*28\n",
    "IMAGE_LENGTH = 28\n",
    "DEVICE = 'cuda' if torch.cuda.is_available() else 'cpu'\n",
    "print (f'Using {DEVICE} device')"
   ]
  },
  {
   "cell_type": "code",
   "execution_count": 246,
   "metadata": {},
   "outputs": [],
   "source": [
    "def train(model, train_set, valid_set, opt, loss_fn, epochs=20, batch_size=64):\n",
    "    \"\"\"\n",
    "    Train a model and evaluate it at every epoch.\n",
    "    \n",
    "    Args:\n",
    "        model: a pytorch model\n",
    "        train_set: dataset to train on\n",
    "        valid_set: dataset to evaluate on\n",
    "        opt: a pytorch optimizer\n",
    "        loss_fn: a pytorch loss function\n",
    "        epochs: number of epochs to train\n",
    "    \"\"\"\n",
    "    train_loader = DataLoader(train_set, batch_size=batch_size, shuffle=True, generator=torch.manual_seed(214))\n",
    "    val_loader = DataLoader(valid_set, batch_size=len(valid_set),shuffle=True, generator=torch.manual_seed(214))\n",
    "\n",
    "    for epoch in range(epochs):\n",
    "        for batch in train_loader:\n",
    "            X, y = batch\n",
    "            X = X.to(DEVICE)\n",
    "            y = y.to(DEVICE)\n",
    "\n",
    "            # Forward pass\n",
    "            outputs = model(X)\n",
    "            loss = loss_fn(outputs, y)\n",
    "\n",
    "            # Backward and optimize\n",
    "            opt.zero_grad()\n",
    "            loss.backward()\n",
    "            opt.step()\n",
    "\n",
    "        # Evaluate\n",
    "        with torch.no_grad():\n",
    "            X_val, y_val = next(iter(val_loader))\n",
    "            X_val = X_val.to(DEVICE)\n",
    "            y_val = y_val.to(DEVICE)\n",
    "            \n",
    "            val_loss = loss_fn(model(X_val), y_val)\n",
    "            print(f'>>> Epoch: {epoch+1}, loss: {loss.item()}, val_loss: {val_loss.item()}')\n",
    "    "
   ]
  },
  {
   "attachments": {},
   "cell_type": "markdown",
   "metadata": {},
   "source": [
    "### Simple Multilayer Perceptron Network "
   ]
  },
  {
   "cell_type": "code",
   "execution_count": 240,
   "metadata": {},
   "outputs": [],
   "source": [
    "class FashionMNISTModel_MLP_3(nn.Module):\n",
    "    def __init__(self):\n",
    "        super().__init__()\n",
    "        self.flatten = nn.Flatten()\n",
    "        self.model = nn.Sequential(\n",
    "            nn.Linear(IMAGE_SIZE, 128),\n",
    "            nn.ReLU(),\n",
    "            nn.Linear(128, 512),\n",
    "            nn.ReLU(),\n",
    "            nn.Linear(512, 10),\n",
    "            nn.Softmax(dim=1)\n",
    "        )\n",
    "\n",
    "    def forward(self, x):\n",
    "        x = self.flatten(x)\n",
    "        return self.model(x)"
   ]
  },
  {
   "cell_type": "code",
   "execution_count": 247,
   "metadata": {},
   "outputs": [
    {
     "name": "stdout",
     "output_type": "stream",
     "text": [
      ">>> Epoch: 1, loss: 2.1812996864318848, val_loss: 2.1824376583099365\n",
      ">>> Epoch: 2, loss: 2.21128511428833, val_loss: 2.1831417083740234\n",
      ">>> Epoch: 3, loss: 2.166510581970215, val_loss: 2.1929678916931152\n",
      ">>> Epoch: 4, loss: 2.175436019897461, val_loss: 2.1915555000305176\n",
      ">>> Epoch: 5, loss: 2.205198049545288, val_loss: 2.19355845451355\n",
      ">>> Epoch: 6, loss: 2.220078945159912, val_loss: 2.1950862407684326\n",
      ">>> Epoch: 7, loss: 2.1924943923950195, val_loss: 2.1947860717773438\n",
      ">>> Epoch: 8, loss: 2.205198287963867, val_loss: 2.207468271255493\n",
      ">>> Epoch: 9, loss: 2.199336290359497, val_loss: 2.2061972618103027\n",
      ">>> Epoch: 10, loss: 2.205198287963867, val_loss: 2.193323850631714\n"
     ]
    }
   ],
   "source": [
    "clf = FashionMNISTModel_MLP_3().to(DEVICE)\n",
    "opt = optim.Adam(clf.parameters(), lr=1e-2)\n",
    "loss_fn = nn.CrossEntropyLoss()\n",
    "\n",
    "train(clf, train_set, val_set, opt, loss_fn, epochs=10, batch_size=512)"
   ]
  },
  {
   "attachments": {},
   "cell_type": "markdown",
   "metadata": {},
   "source": [
    "### CNN"
   ]
  },
  {
   "cell_type": "code",
   "execution_count": null,
   "metadata": {},
   "outputs": [],
   "source": [
    "class FashionMNISTModel_MLP_3(nn.Module):\n",
    "    def __init__(self):\n",
    "        super().__init__()\n",
    "        self.flatten = nn.Flatten()\n",
    "        self.model = nn.Sequential(\n",
    "            nn.Linear(IMAGE_SIZE, 128),\n",
    "            nn.ReLU(),\n",
    "            nn.Linear(128, 512),\n",
    "            nn.ReLU(),\n",
    "            nn.Linear(512, 10),\n",
    "            nn.Softmax(dim=1)\n",
    "        )\n",
    "\n",
    "    def forward(self, x):\n",
    "        x = self.flatten(x)\n",
    "        return self.model(x)"
   ]
  },
  {
   "attachments": {},
   "cell_type": "markdown",
   "metadata": {},
   "source": [
    "## Save Model"
   ]
  },
  {
   "cell_type": "code",
   "execution_count": 253,
   "metadata": {},
   "outputs": [
    {
     "data": {
      "text/plain": [
       "WindowsPath('C:/Users/mathe/OneDrive/Documentos/reporitories/ShawAndPartners_MNIST/models')"
      ]
     },
     "execution_count": 253,
     "metadata": {},
     "output_type": "execute_result"
    }
   ],
   "source": [
    "BASE_PATH = pathlib.Path().resolve().parent / 'models'\n",
    "BASE_PATH"
   ]
  },
  {
   "cell_type": "code",
   "execution_count": 255,
   "metadata": {},
   "outputs": [],
   "source": [
    "MODEL_FOLDER_PATH = pathlib.Path().resolve().parent / 'models'\n",
    "MODEL_NAME = 'model.pt'\n",
    "\n",
    "# Create the folder if it doesn't exist\n",
    "if not MODEL_FOLDER_PATH.exists():\n",
    "    MODEL_FOLDER_PATH.mkdir()\n",
    "\n",
    "# Save the model\n",
    "torch.save(clf.state_dict(), pathlib.Path(MODEL_FOLDER_PATH, MODEL_NAME))"
   ]
  }
 ],
 "metadata": {
  "kernelspec": {
   "display_name": ".venv",
   "language": "python",
   "name": "python3"
  },
  "language_info": {
   "codemirror_mode": {
    "name": "ipython",
    "version": 3
   },
   "file_extension": ".py",
   "mimetype": "text/x-python",
   "name": "python",
   "nbconvert_exporter": "python",
   "pygments_lexer": "ipython3",
   "version": "3.10.6"
  },
  "orig_nbformat": 4
 },
 "nbformat": 4,
 "nbformat_minor": 2
}
