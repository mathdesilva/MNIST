{
 "cells": [
  {
   "attachments": {},
   "cell_type": "markdown",
   "metadata": {},
   "source": [
    "# Training a Image Classifier for Fashion MNIST Dataset\n",
    "\n",
    "Shaw And Partners Coding Challenge\n",
    "\n",
    "Matheus de Andrade Silva"
   ]
  },
  {
   "attachments": {},
   "cell_type": "markdown",
   "metadata": {},
   "source": [
    "## Dependencies"
   ]
  },
  {
   "cell_type": "code",
   "execution_count": 45,
   "metadata": {},
   "outputs": [],
   "source": [
    "import pandas as pd\n",
    "import numpy as np\n",
    "import pathlib\n",
    "import tensorflow as tf\n",
    "import matplotlib.pyplot as plt\n",
    "%matplotlib inline  "
   ]
  },
  {
   "attachments": {},
   "cell_type": "markdown",
   "metadata": {},
   "source": [
    "## Import Data"
   ]
  },
  {
   "cell_type": "code",
   "execution_count": 66,
   "metadata": {},
   "outputs": [],
   "source": [
    "fashion_mnist = tf.keras.datasets.fashion_mnist\n",
    "(X_train_raw, y_train_raw), (X_test_raw, y_test_raw) = fashion_mnist.load_data()"
   ]
  },
  {
   "cell_type": "code",
   "execution_count": 67,
   "metadata": {},
   "outputs": [
    {
     "name": "stdout",
     "output_type": "stream",
     "text": [
      ">> Train test size analysis:\n",
      "Train images shape: (60000, 28, 28)\n",
      "Train labels shape: (60000,)\n",
      "Test images shape: (10000, 28, 28)\n",
      "Test labels shape: (10000,)\n"
     ]
    }
   ],
   "source": [
    "print('>> Train test size analysis:')\n",
    "print('Train images shape:', X_train_raw.shape)\n",
    "print('Train labels shape:', y_train_raw.shape)\n",
    "print('Test images shape:', X_test_raw.shape)\n",
    "print('Test labels shape:', y_test_raw.shape)"
   ]
  },
  {
   "attachments": {},
   "cell_type": "markdown",
   "metadata": {},
   "source": [
    "## Data Analysis"
   ]
  },
  {
   "cell_type": "code",
   "execution_count": 68,
   "metadata": {},
   "outputs": [
    {
     "name": "stdout",
     "output_type": "stream",
     "text": [
      ">> Train label distribution analysis:\n",
      "Label: 0, Count: 6000\n",
      "Label: 1, Count: 6000\n",
      "Label: 2, Count: 6000\n",
      "Label: 3, Count: 6000\n",
      "Label: 4, Count: 6000\n",
      "Label: 5, Count: 6000\n",
      "Label: 6, Count: 6000\n",
      "Label: 7, Count: 6000\n",
      "Label: 8, Count: 6000\n",
      "Label: 9, Count: 6000\n"
     ]
    }
   ],
   "source": [
    "print('>> Train label distribution analysis:')\n",
    "for value in np.array(np.unique(y_train_raw, return_counts=True)).T:\n",
    "    print(f'Label: {value[0]}, Count: {value[1]}')"
   ]
  },
  {
   "cell_type": "code",
   "execution_count": 69,
   "metadata": {},
   "outputs": [
    {
     "name": "stdout",
     "output_type": "stream",
     "text": [
      ">> Test label distribution analysis:\n",
      "Label: 0, Count: 1000\n",
      "Label: 1, Count: 1000\n",
      "Label: 2, Count: 1000\n",
      "Label: 3, Count: 1000\n",
      "Label: 4, Count: 1000\n",
      "Label: 5, Count: 1000\n",
      "Label: 6, Count: 1000\n",
      "Label: 7, Count: 1000\n",
      "Label: 8, Count: 1000\n",
      "Label: 9, Count: 1000\n"
     ]
    }
   ],
   "source": [
    "\n",
    "print('>> Test label distribution analysis:')\n",
    "for value in np.array(np.unique(y_test_raw, return_counts=True)).T:\n",
    "    print(f'Label: {value[0]}, Count: {value[1]}')"
   ]
  },
  {
   "cell_type": "code",
   "execution_count": 70,
   "metadata": {},
   "outputs": [
    {
     "name": "stdout",
     "output_type": "stream",
     "text": [
      ">> Image examples:\n"
     ]
    },
    {
     "data": {
      "image/png": "[encoded data removed]",
      "text/plain": [
       "<Figure size 1500x1500 with 5 Axes>"
      ]
     },
     "metadata": {},
     "output_type": "display_data"
    }
   ],
   "source": [
    "print('>> Image examples:')\n",
    "fig, axes = plt.subplots(1, 5, figsize=(15,15))\n",
    "for i in range(5):\n",
    "    axes[i].imshow(X_train_raw[i], cmap='gray')\n",
    "    axes[i].set_title(y_train_raw[i])\n",
    "    axes[i].axis('off')"
   ]
  },
  {
   "cell_type": "code",
   "execution_count": 71,
   "metadata": {},
   "outputs": [
    {
     "name": "stdout",
     "output_type": "stream",
     "text": [
      ">> Image array data analysis:\n",
      "Image array shape: (28, 28)\n",
      "Total pixels: 784\n",
      "Min value: 0\n",
      "Max value: 255\n"
     ]
    }
   ],
   "source": [
    "print('>> Image array data analysis:')\n",
    "print(f'Image array shape: {X_train_raw[0].shape}')\n",
    "print(f'Total pixels: {X_train_raw[0].size}')\n",
    "print(f'Min value: {X_train_raw[0].min()}')\n",
    "print(f'Max value: {X_train_raw[0].max()}')"
   ]
  },
  {
   "attachments": {},
   "cell_type": "markdown",
   "metadata": {},
   "source": [
    "## Normalize data\n"
   ]
  },
  {
   "cell_type": "code",
   "execution_count": 76,
   "metadata": {},
   "outputs": [],
   "source": [
    "# Change the pixel values range from 0-255 to 0-1\n",
    "X_train = X_train_raw / 255.0\n",
    "X_test = X_test_raw / 255.0\n",
    "y_train = y_train_raw\n",
    "y_test = y_test_raw"
   ]
  },
  {
   "attachments": {},
   "cell_type": "markdown",
   "metadata": {},
   "source": [
    "## Training"
   ]
  },
  {
   "attachments": {},
   "cell_type": "markdown",
   "metadata": {},
   "source": [
    "Here I will test some architecture and compare them to choose the best one"
   ]
  },
  {
   "cell_type": "code",
   "execution_count": null,
   "metadata": {},
   "outputs": [],
   "source": []
  }
 ],
 "metadata": {
  "kernelspec": {
   "display_name": ".venv",
   "language": "python",
   "name": "python3"
  },
  "language_info": {
   "codemirror_mode": {
    "name": "ipython",
    "version": 3
   },
   "file_extension": ".py",
   "mimetype": "text/x-python",
   "name": "python",
   "nbconvert_exporter": "python",
   "pygments_lexer": "ipython3",
   "version": "3.10.6"
  },
  "orig_nbformat": 4
 },
 "nbformat": 4,
 "nbformat_minor": 2
}
